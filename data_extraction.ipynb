{
 "cells": [
  {
   "cell_type": "code",
   "execution_count": 1,
   "id": "b9be67d9-1792-4f7a-9af6-4d112791f164",
   "metadata": {},
   "outputs": [],
   "source": [
    "import os\n",
    "import requests\n",
    "import time\n",
    "import datetime\n",
    "import pandas as pd"
   ]
  },
  {
   "cell_type": "code",
   "execution_count": 8,
   "id": "1ce8e987-b382-488a-ab06-ea86222baa28",
   "metadata": {},
   "outputs": [],
   "source": [
    "!"
   ]
  },
  {
   "cell_type": "code",
   "execution_count": 2,
   "id": "9350b57e-d9e7-4b5f-9a94-398656ccae14",
   "metadata": {},
   "outputs": [],
   "source": [
    "def fetch_aave_rates(rId, fromT, res):\n",
    "    url = (f\"https://aave-api-v2.aave.com/data/rates-history?\"\n",
    "           f\"reserveId={rId}&from={fromT}&resolutionInHours={res}\")\n",
    "    try:\n",
    "        response = requests.get(url)\n",
    "        if response.status_code != 200:\n",
    "            raise Exception(response.status_code);\n",
    "\n",
    "        data = response.json()\n",
    "        df = pd.DataFrame(data)\n",
    "        df[\"date-time\"] = df[\"x\"].apply(lambda x: datetime.datetime(x[\"year\"], x[\"month\"] + 1, x[\"date\"], x[\"hours\"]))\n",
    "        df.drop(columns=[\"x\"], inplace=True)\n",
    "        df = df[[\"date-time\"] + [col for col in df.columns if col != \"date-time\"]]\n",
    "        return df\n",
    "        \n",
    "    except Exception as e:\n",
    "        raise Exception from e"
   ]
  },
  {
   "cell_type": "code",
   "execution_count": 3,
   "id": "6352fe3f-45c4-4679-8285-6111fce1e035",
   "metadata": {},
   "outputs": [],
   "source": [
    "def date_to_unixT(date_str):\n",
    "    try:\n",
    "        dt = datetime.datetime.strptime(date_str, \"%d-%m-%Y\")\n",
    "        return int(time.mktime(dt.timetuple()))\n",
    "    except Exception as e:\n",
    "        print(e)"
   ]
  },
  {
   "cell_type": "code",
   "execution_count": 4,
   "id": "bb61c37c-fc98-4f17-a3fb-ba87f5cef67b",
   "metadata": {},
   "outputs": [],
   "source": [
    "cryptos = [\n",
    "    {\n",
    "        \"name\": \"Wrapped ETH\", \n",
    "        \"market\": \"Core Market\", \n",
    "        \"rId\":\"0xc02aaa39b223fe8d0a0e5c4f27ead9083c756cc20x2f39d218133AFaB8F2B819B1066c7E434Ad94E9e1\"\n",
    "    },\n",
    "    {\n",
    "        \"name\": \"Wrapped BTC\", \n",
    "        \"market\": \"Core Market\", \n",
    "        \"rId\":\"0x2260fac5e5542a773aa44fbcfedf7c193bc2c5990x2f39d218133AFaB8F2B819B1066c7E434Ad94E9e1\"\n",
    "    },\n",
    "    {\n",
    "        \"name\": \"Tether\", \n",
    "        \"market\": \"Core Market\", \n",
    "        \"rId\":\"0xdac17f958d2ee523a2206206994597c13d831ec70x2f39d218133AFaB8F2B819B1066c7E434Ad94E9e1\"\n",
    "    },\n",
    "    {\n",
    "        \"name\": \"USD Coin\", \n",
    "        \"market\": \"Core Market\", \n",
    "        \"rId\":\"0xa0b86991c6218b36c1d19d4a2e9eb0ce3606eb480x2f39d218133AFaB8F2B819B1066c7E434Ad94E9e1\"\n",
    "    },\n",
    "]"
   ]
  },
  {
   "cell_type": "code",
   "execution_count": 5,
   "id": "f64cb2e2-5e0b-4edc-aff2-2db4aa71705b",
   "metadata": {},
   "outputs": [
    {
     "name": "stdout",
     "output_type": "stream",
     "text": [
      "946663200\n"
     ]
    }
   ],
   "source": [
    "timeStamp = date_to_unixT(\"01-01-2000\");\n",
    "print(timeStamp)"
   ]
  },
  {
   "cell_type": "code",
   "execution_count": 8,
   "id": "a8f1056d-f3d0-43b8-a811-f4432b9f2325",
   "metadata": {},
   "outputs": [
    {
     "name": "stdin",
     "output_type": "stream",
     "text": [
      "Wrapped ETH_Core Market.csv already exists! Do you want to fetch again and replace the file? (y/n):  y\n"
     ]
    },
    {
     "name": "stdout",
     "output_type": "stream",
     "text": [
      "Wrapped ETH_Core Market.csv has been replaced and saved.\n",
      "Wrapped BTC_Core Market.csv saved.\n",
      "Tether_Core Market.csv saved.\n",
      "USD Coin_Core Market.csv saved.\n"
     ]
    }
   ],
   "source": [
    "for crypto in cryptos:\n",
    "    file_name = f\"{crypto['name']}_{crypto['market']}.csv\"\n",
    "    if os.path.exists(file_name):\n",
    "        user_input = input(f\"{file_name} already exists! Do you want to fetch again and replace the file? (y/n): \").strip().lower()\n",
    "        \n",
    "        if user_input == 'y':\n",
    "            res = fetch_aave_rates(\n",
    "                crypto[\"rId\"],\n",
    "                timeStamp,\n",
    "                1,\n",
    "            )\n",
    "            res.to_csv(file_name, index=True)\n",
    "            print(f\"{file_name} has been replaced and saved.\")\n",
    "        else:\n",
    "            print(f\"Skipping {file_name}. No changes made.\")\n",
    "    else:\n",
    "        res = fetch_aave_rates(\n",
    "            crypto[\"rId\"],\n",
    "            timeStamp,\n",
    "            1,\n",
    "        )\n",
    "        res.to_csv(file_name, index=True)\n",
    "        print(f\"{file_name} saved.\")\n"
   ]
  },
  {
   "cell_type": "code",
   "execution_count": null,
   "id": "c557480f-58ba-4300-9b21-dfa07432989d",
   "metadata": {},
   "outputs": [],
   "source": []
  }
 ],
 "metadata": {
  "kernelspec": {
   "display_name": "Python 3 (ipykernel)",
   "language": "python",
   "name": "python3"
  },
  "language_info": {
   "codemirror_mode": {
    "name": "ipython",
    "version": 3
   },
   "file_extension": ".py",
   "mimetype": "text/x-python",
   "name": "python",
   "nbconvert_exporter": "python",
   "pygments_lexer": "ipython3",
   "version": "3.12.7"
  }
 },
 "nbformat": 4,
 "nbformat_minor": 5
}
