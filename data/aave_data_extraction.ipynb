{
 "cells": [
  {
   "cell_type": "code",
   "id": "initial_id",
   "metadata": {
    "collapsed": true,
    "ExecuteTime": {
     "end_time": "2025-03-18T12:40:55.898775Z",
     "start_time": "2025-03-18T12:40:55.892919Z"
    }
   },
   "source": [
    "import os\n",
    "import requests\n",
    "import datetime\n",
    "import pandas as pd\n",
    "from aave_data import AAVE_DATA\n",
    "from utils import date_to_timestamp"
   ],
   "outputs": [],
   "execution_count": 5
  },
  {
   "metadata": {
    "ExecuteTime": {
     "end_time": "2025-03-18T12:36:04.515921Z",
     "start_time": "2025-03-18T12:36:04.507363Z"
    }
   },
   "cell_type": "code",
   "source": [
    "def fetch_aave_rates(\n",
    "        reserve_id: str, \n",
    "        start_time: str, \n",
    "        resolution_in_hrs: int) -> pd.DataFrame:\n",
    "    start_time = date_to_timestamp(start_time)\n",
    "    url = (\"https://aave-api-v2.aave.com\" + \n",
    "            \"/data/rates-history?\" + \n",
    "            f\"reserveId={reserve_id}&\" +\n",
    "            f\"from={start_time}&\" + \n",
    "            f\"resolutionInHours={resolution_in_hrs}\")\n",
    "    \n",
    "    try:\n",
    "        response = requests.get(url)\n",
    "        if response.status_code != 200:\n",
    "            raise Exception(response.status_code)\n",
    "        \n",
    "        response_data = response.json()\n",
    "        return pd.DataFrame(response_data)\n",
    "    \n",
    "    except Exception as error:\n",
    "        raise Exception(error)"
   ],
   "id": "e721bdb6c773b86f",
   "outputs": [],
   "execution_count": 2
  },
  {
   "metadata": {
    "ExecuteTime": {
     "end_time": "2025-03-18T12:46:56.102104Z",
     "start_time": "2025-03-18T12:46:56.093192Z"
    }
   },
   "cell_type": "code",
   "source": [
    "def format_aave_df(aave_df: pd.DataFrame) -> pd.DataFrame:\n",
    "    aave_df['date-time'] = aave_df['x'].apply(\n",
    "        lambda x: datetime.datetime(\n",
    "            x['year'], x['month'] + 1, x['date'], x['hours']\n",
    "        )\n",
    "    )\n",
    "    aave_df.drop(columns=['x'], inplace=True)\n",
    "    aave_df = aave_df[[\"date-time\"] + [col for col in aave_df.columns if col != \"date-time\"]]\n",
    "    return aave_df"
   ],
   "id": "4e42b9385ef2d1f1",
   "outputs": [],
   "execution_count": 10
  },
  {
   "metadata": {},
   "cell_type": "code",
   "outputs": [],
   "execution_count": null,
   "source": [
    "timeStamp = date_to_timestamp(\"01-01-2000\")\n",
    "\n",
    "for data in AAVE_DATA:\n",
    "    file_path = f\"./aave_data/{data['market']}/{data['name']}.csv\"\n",
    "    if os.path.exists(file_path):\n",
    "        user_input = input(f\"{file_path} already exists! Do you want to fetch again and replace the file? (y/n): \").strip().lower()\n",
    "        if user_input == 'y':\n",
    "            response_df = fetch_aave_rates(data['rId'], timeStamp, 1)\n",
    "            response_df = format_aave_df(response_df)\n",
    "            response_df.to_csv(file_path, index=True)\n",
    "            print(f\"{file_path} has been replaced and saved.\")\n",
    "        else:\n",
    "            print(f\"Skipping {file_path}. No changes made.\")\n",
    "    else:\n",
    "        response_df = fetch_aave_rates(data['rId'], timeStamp, 1)\n",
    "        response_df = format_aave_df(response_df)\n",
    "        response_df.to_csv(file_path, index=True)\n",
    "        print(f\"{file_path} saved.\")"
   ],
   "id": "62a26d894e123cd9"
  }
 ],
 "metadata": {
  "kernelspec": {
   "display_name": "Python 3",
   "language": "python",
   "name": "python3"
  },
  "language_info": {
   "codemirror_mode": {
    "name": "ipython",
    "version": 2
   },
   "file_extension": ".py",
   "mimetype": "text/x-python",
   "name": "python",
   "nbconvert_exporter": "python",
   "pygments_lexer": "ipython2",
   "version": "2.7.6"
  }
 },
 "nbformat": 4,
 "nbformat_minor": 5
}
