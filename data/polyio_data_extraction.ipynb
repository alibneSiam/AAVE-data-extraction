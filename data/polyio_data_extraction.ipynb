{
 "cells": [
  {
   "cell_type": "code",
   "id": "initial_id",
   "metadata": {
    "collapsed": true,
    "ExecuteTime": {
     "end_time": "2025-03-18T13:22:45.633182Z",
     "start_time": "2025-03-18T13:22:43.069733Z"
    }
   },
   "source": [
    "import os\n",
    "import datetime\n",
    "import time\n",
    "import requests\n",
    "import pandas as pd\n",
    "from dotenv import load_dotenv"
   ],
   "outputs": [],
   "execution_count": 7
  },
  {
   "metadata": {
    "ExecuteTime": {
     "end_time": "2025-03-18T13:20:51.876658Z",
     "start_time": "2025-03-18T13:20:51.858821Z"
    }
   },
   "cell_type": "code",
   "source": [
    "load_dotenv(\".env\", override=True)\n",
    "POLYGON_API_KEY = os.getenv(\"POLYGON_API_KEY\")"
   ],
   "id": "543ddce3e869a833",
   "outputs": [],
   "execution_count": 4
  },
  {
   "metadata": {
    "ExecuteTime": {
     "end_time": "2025-03-18T13:23:17.737745Z",
     "start_time": "2025-03-18T13:23:17.710272Z"
    }
   },
   "cell_type": "code",
   "source": [
    "def fetch_polyio_crypto_price(crypto_ticker, multiplier, timespan, from_date, to_date, to_adjust):\n",
    "    from_date = datetime.datetime.strptime(from_date, \"%Y-%m-%d\")\n",
    "    to_date = datetime.datetime.strptime(to_date, \"%Y-%m-%d\")\n",
    "    all_data = []\n",
    "\n",
    "    current_date = from_date\n",
    "    start_time = time.time()\n",
    "    while current_date <= to_date:\n",
    "        next_date = current_date + datetime.timedelta(days=30)\n",
    "        if next_date > to_date:\n",
    "            next_date = to_date\n",
    "\n",
    "        start_str = current_date.strftime(\"%Y-%m-%d\")\n",
    "        end_str = next_date.strftime(\"%Y-%m-%d\")\n",
    "\n",
    "        url = (f\"https://api.polygon.io/v2/aggs/ticker/{crypto_ticker}/\"\n",
    "               f\"range/{multiplier}/{timespan}/{start_str}/{end_str}?\"\n",
    "               f\"adjusted={to_adjust}&sort=asc&limit=50000&apiKey={POLYGON_API_KEY}\")\n",
    "        \n",
    "        try:\n",
    "            start_time = time.time()\n",
    "            response = requests.get(url)\n",
    "            \n",
    "            if response.status_code != 200:\n",
    "                raise Exception(f\"API request failed with status code {response.status_code}\")\n",
    "\n",
    "            data = response.json()\n",
    "            if \"results\" not in data or not data[\"results\"]:\n",
    "                print(f\"No results found for {start_str} to {end_str}\")\n",
    "            else:\n",
    "                df = pd.DataFrame(data[\"results\"])\n",
    "                df[\"date-time\"] = df[\"t\"].apply(lambda x: datetime.datetime.fromtimestamp(x / 1000, datetime.UTC))\n",
    "                df = df.rename(columns={\"c\": \"close_price\", \"h\": \"high_price\", \"l\": \"low_price\", \"o\": \"open_price\", \"v\": \"volume\"})\n",
    "                df = df[[\"date-time\", \"open_price\", \"high_price\", \"low_price\", \"close_price\", \"volume\"]]\n",
    "                all_data.append(df)\n",
    "\n",
    "        except Exception as e:\n",
    "            print(f\"Error fetching data from {start_str} to {end_str}: {e}\")\n",
    "        \n",
    "        elapsed_time = time.time() - start_time\n",
    "        remaining_time = max(15 - elapsed_time, 0)\n",
    "        if remaining_time > 0:\n",
    "            time.sleep(remaining_time)\n",
    "        current_date = next_date + datetime.timedelta(days=1)\n",
    "        \n",
    "    if all_data:\n",
    "        final_df = pd.concat(all_data, ignore_index=True)\n",
    "        return final_df\n",
    "    else:\n",
    "        return pd.DataFrame()"
   ],
   "id": "3b1b4e1f5c49858a",
   "outputs": [],
   "execution_count": 8
  },
  {
   "metadata": {
    "ExecuteTime": {
     "end_time": "2025-03-18T13:23:41.913517Z",
     "start_time": "2025-03-18T13:23:41.906515Z"
    }
   },
   "cell_type": "code",
   "source": [
    "tickers = [\"X:ETHUSD\", \"X:BTCUSD\", \"X:USDCUSD\", \"X:USDTUSD\"]\n",
    "split_adjusted_values = [\"true\", \"false\"]"
   ],
   "id": "1d9e6007db77f1e6",
   "outputs": [],
   "execution_count": 9
  },
  {
   "metadata": {},
   "cell_type": "code",
   "outputs": [],
   "execution_count": null,
   "source": [
    "for ticker in tickers:\n",
    "    for split_adj in split_adjusted_values:\n",
    "        file_path = (\"./polyio_data/\" + \n",
    "                     f\"{'adjusted' if split_adj == 'true' else 'unadjusted'}/\" +\n",
    "                     f\"{ticker.split(':')[1][:-3]}.csv\")\n",
    "        \n",
    "        if os.path.exists(file_path):\n",
    "            user_input = input(f\"{file_path} already exists! Do you want to fetch again and replace the file? (y/n): \").strip().lower()\n",
    "            \n",
    "            if user_input == 'y':\n",
    "                res = fetch_polyio_crypto_price(ticker, 1, \"hour\", \"2023-03-01\", \"2025-03-08\", split_adj)\n",
    "                res.to_csv(file_path, index=True)\n",
    "                print(f\"{file_path} has been replaced and saved.\")\n",
    "            else:\n",
    "                print(f\"Skipping {file_path}. No changes made.\")\n",
    "        else:\n",
    "            res = fetch_polyio_crypto_price(ticker, 1, \"hour\", \"2023-03-01\", \"2025-03-08\", split_adj)\n",
    "            res.to_csv(file_path, index=True)\n",
    "            print(f\"{file_path} saved.\")"
   ],
   "id": "3d92c0bd79ed7e4a"
  }
 ],
 "metadata": {
  "kernelspec": {
   "display_name": "Python 3",
   "language": "python",
   "name": "python3"
  },
  "language_info": {
   "codemirror_mode": {
    "name": "ipython",
    "version": 2
   },
   "file_extension": ".py",
   "mimetype": "text/x-python",
   "name": "python",
   "nbconvert_exporter": "python",
   "pygments_lexer": "ipython2",
   "version": "2.7.6"
  }
 },
 "nbformat": 4,
 "nbformat_minor": 5
}
